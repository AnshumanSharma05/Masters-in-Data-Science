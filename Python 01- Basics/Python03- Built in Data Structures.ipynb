{
 "cells": [
  {
   "cell_type": "markdown",
   "metadata": {},
   "source": [
    "# Python 03 - Built in Data Structures"
   ]
  },
  {
   "cell_type": "code",
   "execution_count": 1,
   "metadata": {},
   "outputs": [
    {
     "name": "stdout",
     "output_type": "stream",
     "text": [
      "This is a multi\n",
      "line string\n"
     ]
    }
   ],
   "source": [
    "# Strings are immutable \n",
    "# that is we cannot do like name[0]=\"A\" if name is name=\"nshuman\"\n",
    "a=\"\"\"This is a multi\n",
    "line string\"\"\"\n",
    "print(a)"
   ]
  },
  {
   "cell_type": "code",
   "execution_count": 4,
   "metadata": {},
   "outputs": [
    {
     "data": {
      "text/plain": [
       "'A'"
      ]
     },
     "execution_count": 4,
     "metadata": {},
     "output_type": "execute_result"
    }
   ],
   "source": [
    "ord(\"a\")\n",
    "#  returns the ASCII number\n",
    "chr(65)\n",
    "#  returns the ASCII value of a number\n"
   ]
  },
  {
   "cell_type": "markdown",
   "metadata": {},
   "source": [
    "# Strings\n",
    "- formatted strings\n",
    "- strip\n",
    "- split\n",
    "- replace\n",
    "- count"
   ]
  },
  {
   "cell_type": "code",
   "execution_count": 12,
   "metadata": {},
   "outputs": [
    {
     "name": "stdout",
     "output_type": "stream",
     "text": [
      "My name is anshuman i am 24 years old. \n",
      "My name is  anshuman I am  24 years old\n",
      "My name is anshuman I am 24 years old\n",
      "My name is anshuman i am 24 yeards old.\n"
     ]
    }
   ],
   "source": [
    "name=\"anshuman\"\n",
    "age=24\n",
    "print(\"My name is \"+name+\" i am \"+str(age)+\" years old. \")\n",
    "print(\"My name is \", name, \"I am \", age, \"years old\")\n",
    "print(\"My name is %s I am %d years old\"%(name, age))\n",
    "print(\"My name is {} i am {} yeards old.\".format(name, age))\n"
   ]
  },
  {
   "cell_type": "code",
   "execution_count": 15,
   "metadata": {},
   "outputs": [
    {
     "data": {
      "text/plain": [
       "'Good Morning'"
      ]
     },
     "execution_count": 15,
     "metadata": {},
     "output_type": "execute_result"
    }
   ],
   "source": [
    "a=\"Good Morning     \"\n",
    "a.strip()"
   ]
  },
  {
   "cell_type": "code",
   "execution_count": 18,
   "metadata": {},
   "outputs": [
    {
     "name": "stdout",
     "output_type": "stream",
     "text": [
      "Please enter yes or no  yes\n",
      "yes\n",
      "Authenticated\n"
     ]
    }
   ],
   "source": [
    "response=input(\"Please enter yes or no\")\n",
    "response=response.strip()\n",
    "print(response)\n",
    "if response==\"yes\":\n",
    "    print(\"Authenticated\")\n",
    "else:\n",
    "    print(\"Error\")"
   ]
  },
  {
   "cell_type": "markdown",
   "metadata": {},
   "source": [
    "### Split function\n",
    "creates a list from a string"
   ]
  },
  {
   "cell_type": "code",
   "execution_count": 20,
   "metadata": {},
   "outputs": [
    {
     "name": "stdout",
     "output_type": "stream",
     "text": [
      "Please enter the ages23 10 1997\n",
      "['23', '10', '1997']\n"
     ]
    }
   ],
   "source": [
    "lis=input(\"Please enter the ages\").split(\" \")\n",
    "print (lis)\n"
   ]
  },
  {
   "cell_type": "code",
   "execution_count": 24,
   "metadata": {},
   "outputs": [
    {
     "data": {
      "text/plain": [
       "1"
      ]
     },
     "execution_count": 24,
     "metadata": {},
     "output_type": "execute_result"
    }
   ],
   "source": [
    "st=\"Anshuman Sharma\"\n",
    "st=st.replace(\"Anshuman\",\"anshu\")\n",
    "st.count(\"s\")"
   ]
  },
  {
   "cell_type": "markdown",
   "metadata": {},
   "source": [
    "# lists"
   ]
  },
  {
   "cell_type": "code",
   "execution_count": 31,
   "metadata": {},
   "outputs": [
    {
     "name": "stdout",
     "output_type": "stream",
     "text": [
      "hello World\n"
     ]
    },
    {
     "data": {
      "text/plain": [
       "['Anshuman', 23, 1997, 10, <function print>, 'Anshu']"
      ]
     },
     "execution_count": 31,
     "metadata": {},
     "output_type": "execute_result"
    }
   ],
   "source": [
    "l=[\"Anshuman\", 23, 1997,10,print]\n",
    "l[3]\n",
    "l[4](\"hello World\")\n",
    "len(l)\n",
    "b=[\"Anshu\"]\n",
    "l=l+b\n",
    "l"
   ]
  },
  {
   "cell_type": "code",
   "execution_count": 32,
   "metadata": {},
   "outputs": [
    {
     "data": {
      "text/plain": [
       "True"
      ]
     },
     "execution_count": 32,
     "metadata": {},
     "output_type": "execute_result"
    }
   ],
   "source": [
    "\"Anshu\" in l"
   ]
  },
  {
   "cell_type": "code",
   "execution_count": 33,
   "metadata": {},
   "outputs": [
    {
     "data": {
      "text/plain": [
       "'namuhsnA'"
      ]
     },
     "execution_count": 33,
     "metadata": {},
     "output_type": "execute_result"
    }
   ],
   "source": [
    "st=\"Anshuman\"\n",
    "st[::-1]"
   ]
  },
  {
   "cell_type": "code",
   "execution_count": 34,
   "metadata": {},
   "outputs": [
    {
     "data": {
      "text/plain": [
       "False"
      ]
     },
     "execution_count": 34,
     "metadata": {},
     "output_type": "execute_result"
    }
   ],
   "source": [
    "# to check palindrome\n",
    "st==st[::-1]"
   ]
  },
  {
   "cell_type": "markdown",
   "metadata": {},
   "source": [
    "Updating the list\n",
    "-insert\n",
    "-append\n"
   ]
  },
  {
   "cell_type": "code",
   "execution_count": 38,
   "metadata": {},
   "outputs": [
    {
     "data": {
      "text/plain": [
       "[0, 1, 2, 3, 4, 5]"
      ]
     },
     "execution_count": 38,
     "metadata": {},
     "output_type": "execute_result"
    }
   ],
   "source": [
    "a=[1,2,3,4]\n",
    "a.insert(0,0)\n",
    "a\n",
    "a.append(5)\n",
    "a"
   ]
  },
  {
   "cell_type": "code",
   "execution_count": 47,
   "metadata": {},
   "outputs": [
    {
     "name": "stdout",
     "output_type": "stream",
     "text": [
      "0.0001111\n",
      "0\n"
     ]
    }
   ],
   "source": [
    "# Leet code problem\n",
    "x=0.0001111\n",
    "st=str(x)\n",
    "print(st)\n",
    "x=0\n",
    "for i in st:\n",
    "    if i ==1:\n",
    "        x+=1\n",
    "print(x)     \n",
    "        \n",
    "class Solution:\n",
    "    def hammingWeight(self, n: int) -> int:\n",
    "        counter = 0\n",
    "        while n:\n",
    "            digit = n%2\n",
    "            if digit == 1:\n",
    "                counter += 1\n",
    "            n = n//2\n",
    "        return counter\n"
   ]
  },
  {
   "cell_type": "code",
   "execution_count": 49,
   "metadata": {},
   "outputs": [
    {
     "data": {
      "text/plain": [
       "55555555550"
      ]
     },
     "execution_count": 49,
     "metadata": {},
     "output_type": "execute_result"
    }
   ],
   "source": [
    "111111111100//2"
   ]
  },
  {
   "cell_type": "markdown",
   "metadata": {},
   "source": [
    "\n",
    "# TUPLES"
   ]
  },
  {
   "cell_type": "code",
   "execution_count": 5,
   "metadata": {},
   "outputs": [
    {
     "name": "stdout",
     "output_type": "stream",
     "text": [
      "17\n",
      "1\n"
     ]
    }
   ],
   "source": [
    "# Tuples are immutable\n",
    "a=(1,2,3,4)\n",
    "type(a)\n",
    "# tuples are efficitn and fast than list\n",
    "# If we wish to return more than 1 valur in a function we can use tuple eg followed\n",
    "def fun(a,b):\n",
    "    return (a+b, a-b)\n",
    "summ, diff=fun(9,8)\n",
    "print(summ)\n",
    "print(diff)"
   ]
  },
  {
   "cell_type": "markdown",
   "metadata": {},
   "source": [
    "# Dictionaries\n"
   ]
  },
  {
   "cell_type": "code",
   "execution_count": 10,
   "metadata": {},
   "outputs": [
    {
     "name": "stdout",
     "output_type": "stream",
     "text": [
      "24\n"
     ]
    }
   ],
   "source": [
    "# Dictionaries are unordered\n",
    "a={\n",
    "    \"name\":\"Anshuman\",\n",
    "    \"age\": 24\n",
    "    \n",
    "}\n",
    "print(a[\"age\"])"
   ]
  },
  {
   "cell_type": "code",
   "execution_count": 11,
   "metadata": {},
   "outputs": [
    {
     "name": "stdout",
     "output_type": "stream",
     "text": [
      "name\n",
      "age\n"
     ]
    }
   ],
   "source": [
    "for key in a:\n",
    "    print(key)"
   ]
  },
  {
   "cell_type": "markdown",
   "metadata": {},
   "source": [
    "Some important dict methods\n",
    "1) get()\n",
    "2) items()\n",
    "3) keys()\n",
    "4) values()\n",
    "5) clear()\n"
   ]
  },
  {
   "cell_type": "code",
   "execution_count": 13,
   "metadata": {},
   "outputs": [
    {
     "name": "stdout",
     "output_type": "stream",
     "text": [
      "Key:   name  -> value:  Anshuman\n",
      "Key:   age  -> value:  24\n"
     ]
    }
   ],
   "source": [
    "for key, value in a.items():\n",
    "    print(\"Key:  \",key,\" -> value: \",value )\n"
   ]
  },
  {
   "cell_type": "code",
   "execution_count": 16,
   "metadata": {},
   "outputs": [
    {
     "name": "stdout",
     "output_type": "stream",
     "text": [
      "Please enter the number of students2\n",
      "enter the roll number2\n",
      "Enter the name2\n",
      "Enter the branch2\n",
      "enter the roll number2\n",
      "Enter the name2\n",
      "Enter the branch2\n"
     ]
    },
    {
     "data": {
      "text/plain": [
       "[{'roll_No': 2, 'name': '2', 'branch': '2'},\n",
       " {'roll_No': 2, 'name': '2', 'branch': '2'}]"
      ]
     },
     "execution_count": 16,
     "metadata": {},
     "output_type": "execute_result"
    }
   ],
   "source": [
    "n= int(input(\"Please enter the number of students\"))\n",
    "students=[]\n",
    "for i in range(n):\n",
    "    roll_num=int(input(\"enter the roll number\"))\n",
    "    name=input(\"Enter the name\")\n",
    "    branch=input(\"Enter the branch\")\n",
    "    students.append({\n",
    "        \"roll_No\":roll_num,\n",
    "        \"name\":name,\n",
    "        \"branch\":branch\n",
    "    })\n",
    "students"
   ]
  },
  {
   "cell_type": "code",
   "execution_count": 19,
   "metadata": {},
   "outputs": [
    {
     "data": {
      "text/plain": [
       "'Anshuman'"
      ]
     },
     "execution_count": 19,
     "metadata": {},
     "output_type": "execute_result"
    }
   ],
   "source": [
    "# Keys in the dictionary can be any immutable DS\n",
    "# example tuples are immutable so\n",
    "a={(1,2):\"Anshuman\"}\n",
    "a[(1,2)]"
   ]
  },
  {
   "cell_type": "code",
   "execution_count": 20,
   "metadata": {},
   "outputs": [],
   "source": [
    "# But we cant use list as a key as it is immutable"
   ]
  },
  {
   "cell_type": "markdown",
   "metadata": {},
   "source": [
    "# SETS"
   ]
  },
  {
   "cell_type": "markdown",
   "metadata": {},
   "source": [
    "Set is an unordered data structure, isnt meant to be iterated, we cannot index in sets.\n",
    "Set is a unique collection of items thats it\n"
   ]
  },
  {
   "cell_type": "code",
   "execution_count": 22,
   "metadata": {},
   "outputs": [
    {
     "data": {
      "text/plain": [
       "set"
      ]
     },
     "execution_count": 22,
     "metadata": {},
     "output_type": "execute_result"
    }
   ],
   "source": [
    "a={1,2,3,4}\n",
    "type(a)"
   ]
  },
  {
   "cell_type": "code",
   "execution_count": 25,
   "metadata": {},
   "outputs": [
    {
     "data": {
      "text/plain": [
       "set"
      ]
     },
     "execution_count": 25,
     "metadata": {},
     "output_type": "execute_result"
    }
   ],
   "source": [
    "# to create an empty set\n",
    "a=set()\n",
    "type(a)"
   ]
  },
  {
   "cell_type": "code",
   "execution_count": 27,
   "metadata": {},
   "outputs": [
    {
     "data": {
      "text/plain": [
       "{2, 3, 4}"
      ]
     },
     "execution_count": 27,
     "metadata": {},
     "output_type": "execute_result"
    }
   ],
   "source": [
    "a={1,2,3,4}\n",
    "b={2,3,4}\n",
    "a.intersection(b)"
   ]
  },
  {
   "cell_type": "code",
   "execution_count": 31,
   "metadata": {},
   "outputs": [
    {
     "ename": "SyntaxError",
     "evalue": "unexpected EOF while parsing (<ipython-input-31-2f70935a65d5>, line 6)",
     "output_type": "error",
     "traceback": [
      "\u001b[1;36m  File \u001b[1;32m\"<ipython-input-31-2f70935a65d5>\"\u001b[1;36m, line \u001b[1;32m6\u001b[0m\n\u001b[1;33m    \u001b[0m\n\u001b[1;37m    ^\u001b[0m\n\u001b[1;31mSyntaxError\u001b[0m\u001b[1;31m:\u001b[0m unexpected EOF while parsing\n"
     ]
    }
   ],
   "source": [
    "a={1,2,3,1,2,3}\n",
    "list(set(a)\n",
    "     \n",
    "# but location cannot be determnined\n",
    "# Best way to deduplicate\n",
    "     "
   ]
  },
  {
   "cell_type": "markdown",
   "metadata": {},
   "source": [
    "# Comprehension"
   ]
  },
  {
   "cell_type": "code",
   "execution_count": 34,
   "metadata": {},
   "outputs": [],
   "source": [
    "x=[x**2 for x in range(10) if x%2==0 ]"
   ]
  },
  {
   "cell_type": "code",
   "execution_count": 35,
   "metadata": {},
   "outputs": [
    {
     "data": {
      "text/plain": [
       "[0, 4, 16, 36, 64]"
      ]
     },
     "execution_count": 35,
     "metadata": {},
     "output_type": "execute_result"
    }
   ],
   "source": [
    "x"
   ]
  },
  {
   "cell_type": "markdown",
   "metadata": {},
   "source": [
    "Dict comprehension\n"
   ]
  },
  {
   "cell_type": "code",
   "execution_count": 36,
   "metadata": {},
   "outputs": [],
   "source": [
    "a={a:a**2 for a in range(11)}"
   ]
  },
  {
   "cell_type": "code",
   "execution_count": 37,
   "metadata": {},
   "outputs": [
    {
     "data": {
      "text/plain": [
       "{0: 0, 1: 1, 2: 4, 3: 9, 4: 16, 5: 25, 6: 36, 7: 49, 8: 64, 9: 81, 10: 100}"
      ]
     },
     "execution_count": 37,
     "metadata": {},
     "output_type": "execute_result"
    }
   ],
   "source": [
    "a"
   ]
  },
  {
   "cell_type": "markdown",
   "metadata": {},
   "source": [
    "Set comprehension"
   ]
  },
  {
   "cell_type": "code",
   "execution_count": 38,
   "metadata": {},
   "outputs": [
    {
     "data": {
      "text/plain": [
       "{0, 1, 4, 9, 16, 25, 36, 49, 64, 81, 100}"
      ]
     },
     "execution_count": 38,
     "metadata": {},
     "output_type": "execute_result"
    }
   ],
   "source": [
    "{a**2 for a in range(11)}"
   ]
  },
  {
   "cell_type": "code",
   "execution_count": null,
   "metadata": {},
   "outputs": [],
   "source": []
  }
 ],
 "metadata": {
  "kernelspec": {
   "display_name": "Python 3",
   "language": "python",
   "name": "python3"
  },
  "language_info": {
   "codemirror_mode": {
    "name": "ipython",
    "version": 3
   },
   "file_extension": ".py",
   "mimetype": "text/x-python",
   "name": "python",
   "nbconvert_exporter": "python",
   "pygments_lexer": "ipython3",
   "version": "3.7.4"
  }
 },
 "nbformat": 4,
 "nbformat_minor": 5
}

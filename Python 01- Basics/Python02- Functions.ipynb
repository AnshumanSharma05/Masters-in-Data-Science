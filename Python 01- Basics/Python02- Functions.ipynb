{
 "cells": [
  {
   "cell_type": "markdown",
   "id": "c2136109",
   "metadata": {},
   "source": [
    "# Python Functions\n"
   ]
  },
  {
   "cell_type": "code",
   "execution_count": 2,
   "id": "f77ab4b8",
   "metadata": {},
   "outputs": [
    {
     "name": "stdout",
     "output_type": "stream",
     "text": [
      "knock knock\n"
     ]
    }
   ],
   "source": [
    "def knock():\n",
    "    print(\"knock knock\")\n",
    "knock()"
   ]
  },
  {
   "cell_type": "code",
   "execution_count": 7,
   "id": "c1a1bf39",
   "metadata": {},
   "outputs": [
    {
     "name": "stdout",
     "output_type": "stream",
     "text": [
      "Hi Anshuman\n"
     ]
    }
   ],
   "source": [
    "def fun(name):\n",
    "    print(\"Hi {}\".format(name))\n",
    "fun(\"Anshuman\")"
   ]
  },
  {
   "cell_type": "code",
   "execution_count": 13,
   "id": "caf9e576",
   "metadata": {},
   "outputs": [
    {
     "name": "stdout",
     "output_type": "stream",
     "text": [
      "Knock Knock Anshuman\n",
      "Knock Knock Anshuman\n",
      "Knock Knock Anshuman\n",
      "Knock Knock Anshuman\n",
      "Knock Knock Anshuman\n"
     ]
    }
   ],
   "source": [
    "def fun(name, numb=5):\n",
    "    for i in range(numb):\n",
    "        print(\"Knock Knock {}\".format(name))\n",
    "fun(\"Anshuman\")"
   ]
  },
  {
   "cell_type": "code",
   "execution_count": 14,
   "id": "34a5aa99",
   "metadata": {},
   "outputs": [
    {
     "name": "stdout",
     "output_type": "stream",
     "text": [
      "30\n"
     ]
    }
   ],
   "source": [
    "def fun(a,b):\n",
    "    return a*b\n",
    "x=fun(5,6)\n",
    "print(x)"
   ]
  },
  {
   "cell_type": "code",
   "execution_count": 15,
   "id": "ca315627",
   "metadata": {},
   "outputs": [
    {
     "name": "stdout",
     "output_type": "stream",
     "text": [
      "Wrapping up\n"
     ]
    },
    {
     "data": {
      "text/plain": [
       "5.0"
      ]
     },
     "execution_count": 15,
     "metadata": {},
     "output_type": "execute_result"
    }
   ],
   "source": [
    "def div(a,b):\n",
    "    try:\n",
    "        return a/b\n",
    "    except:\n",
    "        print(\"error\")\n",
    "    finally:\n",
    "        print(\"Wrapping up\")\n",
    "div(10,2)       \n",
    "# If finally block has a return statement the try and except will not return anythign and the value returned by finally will be kept\n",
    " "
   ]
  },
  {
   "cell_type": "code",
   "execution_count": 17,
   "id": "02a12790",
   "metadata": {},
   "outputs": [
    {
     "name": "stdout",
     "output_type": "stream",
     "text": [
      "15\n",
      "15\n"
     ]
    }
   ],
   "source": [
    "x=10\n",
    "# Global variable\n",
    "def show():\n",
    "    global x \n",
    "    x+=5\n",
    "    print(x)\n",
    "show()\n",
    "print(x)"
   ]
  },
  {
   "cell_type": "code",
   "execution_count": 22,
   "id": "7b929e48",
   "metadata": {},
   "outputs": [
    {
     "name": "stdout",
     "output_type": "stream",
     "text": [
      "World\n",
      "Hello\n",
      "!\n",
      "Hi your age is  9\n"
     ]
    }
   ],
   "source": [
    "# Key worded arguments\n",
    "\n",
    "def fun(a,b,c):\n",
    "    print(a)\n",
    "    print(b)\n",
    "    print(c)\n",
    "fun(b=\"Hello\",a=\"World\",c=\"!\")\n",
    "age=9\n",
    "print(\"Hi your age is \",age)"
   ]
  },
  {
   "cell_type": "markdown",
   "id": "653f8631",
   "metadata": {},
   "source": [
    "## Packing of arguments"
   ]
  },
  {
   "cell_type": "code",
   "execution_count": 24,
   "id": "7edc4cfd",
   "metadata": {},
   "outputs": [],
   "source": [
    "# We can give any number of arguments \n",
    "def show(*args):\n",
    "    print(args)\n"
   ]
  },
  {
   "cell_type": "code",
   "execution_count": 26,
   "id": "8a11d2a0",
   "metadata": {},
   "outputs": [
    {
     "name": "stdout",
     "output_type": "stream",
     "text": [
      "('ANshuman', 23, 1997)\n"
     ]
    }
   ],
   "source": [
    "show(\"ANshuman\", 23, 1997)"
   ]
  },
  {
   "cell_type": "code",
   "execution_count": 31,
   "id": "fcdae3a3",
   "metadata": {},
   "outputs": [
    {
     "name": "stdout",
     "output_type": "stream",
     "text": [
      "('Anhsuman',)\n",
      "1\n"
     ]
    }
   ],
   "source": [
    "def show(a,b,*args):\n",
    "    print(args)\n",
    "    print(a)\n",
    "show(1,2,\"Anhsuman\")"
   ]
  },
  {
   "cell_type": "code",
   "execution_count": 32,
   "id": "966bf39d",
   "metadata": {},
   "outputs": [
    {
     "name": "stdout",
     "output_type": "stream",
     "text": [
      "1\n",
      "nshuman\n",
      "('jan',)\n",
      "{'name': 'Anshuman'}\n"
     ]
    }
   ],
   "source": [
    "# Kwargs\n",
    "# It will pack keyworded arguments in kwargs\n",
    "def show(a,b,*args,**kwargs):\n",
    "    print(a)\n",
    "    print(b)\n",
    "    print(args)\n",
    "    print(kwargs)\n",
    "show(1,\"nshuman\",\"jan\",name=\"Anshuman\")"
   ]
  },
  {
   "cell_type": "markdown",
   "id": "94ffb968",
   "metadata": {},
   "source": [
    "# Lambda Functions\n"
   ]
  },
  {
   "cell_type": "code",
   "execution_count": 34,
   "id": "d4a3bce3",
   "metadata": {},
   "outputs": [],
   "source": [
    "add= lambda a,b: a+b"
   ]
  },
  {
   "cell_type": "code",
   "execution_count": 36,
   "id": "461ccfa8",
   "metadata": {},
   "outputs": [
    {
     "data": {
      "text/plain": [
       "5"
      ]
     },
     "execution_count": 36,
     "metadata": {},
     "output_type": "execute_result"
    }
   ],
   "source": [
    "add(1,4)"
   ]
  },
  {
   "cell_type": "markdown",
   "id": "4cd71f11",
   "metadata": {},
   "source": [
    "# Decorators"
   ]
  },
  {
   "cell_type": "code",
   "execution_count": 38,
   "id": "89f02bb4",
   "metadata": {},
   "outputs": [],
   "source": [
    "users={\"Anshuman\":\"password\",\n",
    "      \"Ajay\":\"Pass\"}"
   ]
  },
  {
   "cell_type": "code",
   "execution_count": 39,
   "id": "f9ca532f",
   "metadata": {},
   "outputs": [],
   "source": [
    "def fun(username, password):\n",
    "    if username in users and users[username]==password:\n",
    "        print(\"Welcome\")\n",
    "    else:\n",
    "        print(\"Not authenticated\")\n"
   ]
  },
  {
   "cell_type": "code",
   "execution_count": 41,
   "id": "287d64fd",
   "metadata": {},
   "outputs": [
    {
     "name": "stdout",
     "output_type": "stream",
     "text": [
      "Not authenticated\n"
     ]
    }
   ],
   "source": [
    "fun(\"Anshuman\",\"Password\")"
   ]
  },
  {
   "cell_type": "code",
   "execution_count": null,
   "id": "2e328f2d",
   "metadata": {},
   "outputs": [],
   "source": []
  }
 ],
 "metadata": {
  "kernelspec": {
   "display_name": "Python 3 (ipykernel)",
   "language": "python",
   "name": "python3"
  },
  "language_info": {
   "codemirror_mode": {
    "name": "ipython",
    "version": 3
   },
   "file_extension": ".py",
   "mimetype": "text/x-python",
   "name": "python",
   "nbconvert_exporter": "python",
   "pygments_lexer": "ipython3",
   "version": "3.10.4"
  }
 },
 "nbformat": 4,
 "nbformat_minor": 5
}
